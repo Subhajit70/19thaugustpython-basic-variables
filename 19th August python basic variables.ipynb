{
 "cells": [
  {
   "cell_type": "code",
   "execution_count": 1,
   "id": "1797e5cf-03d4-4092-8b31-b994787e61fb",
   "metadata": {},
   "outputs": [
    {
     "name": "stdout",
     "output_type": "stream",
     "text": [
      "6\n",
      "5\n"
     ]
    }
   ],
   "source": [
    "#swapping the values of two variables without using temporary variables\n",
    "a = 5\n",
    "b = 6\n",
    "#code to swap a and b values\n",
    "a = a+b #a becomes 11\n",
    "b = a-b #b becomes 5\n",
    "a = a-b #a becomes 6\n",
    "print(a)\n",
    "print(b)"
   ]
  },
  {
   "cell_type": "code",
   "execution_count": 2,
   "id": "d3c3304a-161a-4c09-9086-cc8eaa32f5cc",
   "metadata": {},
   "outputs": [
    {
     "name": "stdin",
     "output_type": "stream",
     "text": [
      "enter length of rectangle : 25\n",
      "enter the breadth of rectangle: 20\n"
     ]
    },
    {
     "name": "stdout",
     "output_type": "stream",
     "text": [
      "500.0\n"
     ]
    }
   ],
   "source": [
    "#2.calculates the area of arectangle\n",
    "length = float(input(\"enter length of rectangle :\"))\n",
    "breadth = float(input(\"enter the breadth of rectangle:\"))\n",
    "area = length*breadth  #formula\n",
    "print(area)"
   ]
  },
  {
   "cell_type": "code",
   "execution_count": 5,
   "id": "7f87e3ab-4855-4b30-8c2f-3dc6357cdfa5",
   "metadata": {},
   "outputs": [
    {
     "name": "stdin",
     "output_type": "stream",
     "text": [
      "enter the temp in celsius: 30\n"
     ]
    },
    {
     "name": "stdout",
     "output_type": "stream",
     "text": [
      "86.0\n"
     ]
    }
   ],
   "source": [
    "#3.converting temprature from celsius to fahrenheit\n",
    "celsius = float(input(\"enter the temp in celsius:\"))\n",
    "fahrenheit = (celsius*1.8)+32   #formula f = c*1.8+ 32\n",
    "print(fahrenheit)"
   ]
  },
  {
   "cell_type": "code",
   "execution_count": 6,
   "id": "b766c444-755c-47fd-a261-5a12ffa71996",
   "metadata": {},
   "outputs": [],
   "source": [
    "#string based question"
   ]
  },
  {
   "cell_type": "code",
   "execution_count": 7,
   "id": "6f316a63-adb0-4ae8-9c51-a962f1535103",
   "metadata": {},
   "outputs": [
    {
     "name": "stdin",
     "output_type": "stream",
     "text": [
      "enter the string: i love dog \n"
     ]
    },
    {
     "name": "stdout",
     "output_type": "stream",
     "text": [
      "11\n"
     ]
    }
   ],
   "source": [
    "#1.taking string as a input and calculating the length of the string\n",
    "s1 = input(\"enter the string:\")\n",
    "print(len(s1))"
   ]
  },
  {
   "cell_type": "code",
   "execution_count": 8,
   "id": "2f122f1d-ac04-4090-94fa-d3b507380dba",
   "metadata": {},
   "outputs": [
    {
     "name": "stdin",
     "output_type": "stream",
     "text": [
      "enter the sentence: i love cricket\n"
     ]
    },
    {
     "name": "stdout",
     "output_type": "stream",
     "text": [
      "numberof vowles in the sentence is: 1\n",
      "numberof vowles in the sentence is: 2\n",
      "numberof vowles in the sentence is: 3\n",
      "numberof vowles in the sentence is: 4\n",
      "numberof vowles in the sentence is: 5\n"
     ]
    }
   ],
   "source": [
    "#2. counting the number of vowles from a string\n",
    "sentence = input(\"enter the sentence:\")\n",
    "string = sentence.lower()\n",
    "count = 0\n",
    "list1 = [\"a\" ,\"e\" ,\"i\" ,\"o\" ,\"u\"]  #vowles in alphebat\n",
    "for char in string:\n",
    "    if char in list1:\n",
    "        count = count+1\n",
    "        print(\"numberof vowles in the sentence is:\" , count)\n",
    "    "
   ]
  },
  {
   "cell_type": "code",
   "execution_count": 9,
   "id": "1b279684-6753-405f-a7ff-479653ba6b8f",
   "metadata": {},
   "outputs": [
    {
     "name": "stdin",
     "output_type": "stream",
     "text": [
      "enter the string: subhajit\n"
     ]
    },
    {
     "name": "stdout",
     "output_type": "stream",
     "text": [
      "tijahbus\n"
     ]
    }
   ],
   "source": [
    "#3. reversing the order of char using string slicingand printing thr reverse string\n",
    "string = input(\"enter the string:\")\n",
    "reverse_string = string[::-1]\n",
    "print(reverse_string)"
   ]
  },
  {
   "cell_type": "code",
   "execution_count": 10,
   "id": "bddb0011-c88f-4fa6-a8e0-5017b8f6aff9",
   "metadata": {},
   "outputs": [
    {
     "name": "stdin",
     "output_type": "stream",
     "text": [
      "enter the string: madam\n"
     ]
    },
    {
     "name": "stdout",
     "output_type": "stream",
     "text": [
      "palindrome\n"
     ]
    }
   ],
   "source": [
    "#checking if the string is palindrome or not\n",
    "# a string is said to be palindrome if the string and reverse string is identical\n",
    "#exmple: abcdedcba , malayalam\n",
    "string = input(\"enter the string:\")\n",
    "reverse_string=string[::-1]\n",
    "if string ==reverse_string:\n",
    "    print(\"palindrome\")\n",
    "else:\n",
    "    print(\"not palindrome\")"
   ]
  },
  {
   "cell_type": "code",
   "execution_count": null,
   "id": "be89ef05-c057-4263-b17c-1557b3e1d5f1",
   "metadata": {},
   "outputs": [],
   "source": [
    "#5.remove space from a string\n",
    "string = input(\"enter the string:\")\n",
    "string_without_space= string.replace(\" \""
   ]
  }
 ],
 "metadata": {
  "kernelspec": {
   "display_name": "Python 3 (ipykernel)",
   "language": "python",
   "name": "python3"
  },
  "language_info": {
   "codemirror_mode": {
    "name": "ipython",
    "version": 3
   },
   "file_extension": ".py",
   "mimetype": "text/x-python",
   "name": "python",
   "nbconvert_exporter": "python",
   "pygments_lexer": "ipython3",
   "version": "3.10.8"
  }
 },
 "nbformat": 4,
 "nbformat_minor": 5
}
